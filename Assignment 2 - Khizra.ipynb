{
 "cells": [
  {
   "cell_type": "code",
   "execution_count": 4,
   "id": "4bb3b81c",
   "metadata": {},
   "outputs": [
    {
     "name": "stdout",
     "output_type": "stream",
     "text": [
      "Guess the secret number (1-50): 6\n",
      "Try again! Your guess is too low. You have 4 attempts left.\n",
      "Guess the secret number (1-50): 45\n",
      "Try again! Your guess is too high. You have 3 attempts left.\n",
      "Guess the secret number (1-50): 25\n",
      "Try again! Your guess is too high. You have 2 attempts left.\n",
      "Guess the secret number (1-50): 10\n",
      "Try again! Your guess is too low. You have 1 attempts left.\n",
      "Guess the secret number (1-50): 15\n",
      "Try again! Your guess is too high. You have 0 attempts left.\n",
      "Game Over! The secret number was 11, Better luck next time\n"
     ]
    }
   ],
   "source": [
    "import random\n",
    "\n",
    "secret_number = random.randrange(0,50)\n",
    "attempts_left = 5\n",
    "user_1 = 0\n",
    "\n",
    "while attempts_left > 0:\n",
    "    try:\n",
    "        user_input = int(input(\"Guess the secret number (1-50): \"))\n",
    "    except ValueError:\n",
    "        print(\"Invalid input! Please enter a valid number.\")\n",
    "        continue\n",
    "        \n",
    "    if user_input == secret_number:\n",
    "        print(f\"Congratulations! You guessed the secret number {secret_number} correctly! \")\n",
    "        break\n",
    "    elif user_input < secret_number:\n",
    "        print(f\"Try again! Your guess is too low. You have {attempts_left - 1} attempts left.\")\n",
    "    elif user_input > secret_number:\n",
    "        print(f\"Try again! Your guess is too high. You have {attempts_left -1} attempts left.\")\n",
    "    elif  user_input > 50:\n",
    "        print(\"Sorry number out of range. Try again\")\n",
    "    attempts_left -= 1\n",
    "    \n",
    "if attempts_left == 0:\n",
    "    print(f\"Game Over! The secret number was {secret_number}, Better luck next time\")"
   ]
  },
  {
   "cell_type": "code",
   "execution_count": 5,
   "id": "0039af97",
   "metadata": {},
   "outputs": [
    {
     "name": "stdout",
     "output_type": "stream",
     "text": [
      "Enter your string: poool party!\n",
      "Your string has 4\n"
     ]
    }
   ],
   "source": [
    "#Task 2: a)\tWrite a function called num_vowels that takes in a string as an argument, and returns the number of vowels \n",
    "#in that string. \n",
    "#Print out the result for the string “Learning Python is fun and engaging.”\n",
    "\n",
    "def num_vowels(word):\n",
    "    vowels = \"AEIOUaeiou\"\n",
    "    count = 0\n",
    "    \n",
    "    for char in word:\n",
    "        if char in vowels:\n",
    "            count+=1\n",
    "    return count\n",
    "\n",
    "word = input(\"Enter your string: \")\n",
    "total_vowels = num_vowels(word)\n",
    "print(f\"Your string has {total_vowels}\")"
   ]
  },
  {
   "cell_type": "code",
   "execution_count": 8,
   "id": "9a5108bc",
   "metadata": {},
   "outputs": [
    {
     "name": "stdout",
     "output_type": "stream",
     "text": [
      "480\n"
     ]
    }
   ],
   "source": [
    "# b)\tCreate a function called hours_to_min that converts hours into minutes. \n",
    "#The function should take the number of hours as input and return the equivalent number of minutes. \n",
    "#Test the function with 2.5 hours and print the result.\n",
    "\n",
    "def hours_to_mins(hours):\n",
    "    minutes = hours*60\n",
    "    return minutes\n",
    "\n",
    "x = hours_to_mins(8)\n",
    "print(x)"
   ]
  },
  {
   "cell_type": "code",
   "execution_count": 10,
   "id": "65fa6955",
   "metadata": {},
   "outputs": [
    {
     "name": "stdout",
     "output_type": "stream",
     "text": [
      "1 * 3 = 3\n",
      "2 * 3 = 6\n",
      "3 * 3 = 9\n",
      "4 * 3 = 12\n",
      "5 * 3 = 15\n",
      "6 * 3 = 18\n",
      "7 * 3 = 21\n",
      "8 * 3 = 24\n",
      "9 * 3 = 27\n",
      "10 * 3 = 30\n",
      "11 * 3 = 33\n",
      "12 * 3 = 36\n"
     ]
    }
   ],
   "source": [
    "# c)\tWrite a python function that takes in a number as an argument, \n",
    "#and prints out the table of that number up to 12 times that number. You may name this whatever you wish. \n",
    "\n",
    "def ta_ble(number):\n",
    "    for i in range(1,13):\n",
    "        result = i * number\n",
    "        print(f\"{i} * {number} =\" , i*number)\n",
    "\n",
    "y = ta_ble(3)"
   ]
  },
  {
   "cell_type": "code",
   "execution_count": 26,
   "id": "83675832",
   "metadata": {},
   "outputs": [
    {
     "name": "stdout",
     "output_type": "stream",
     "text": [
      "Eligible\n",
      "Not Eligible\n"
     ]
    }
   ],
   "source": [
    "#d)\tIn your previous assignment, you wrote code that checks if a student is eligible for admission to a university. \n",
    "#Turn that code into a function called eligibility. \n",
    "#The function should take two arguments: the student's age and their previous GPA. The eligibility criteria are as follows:\n",
    "#- The student must be at least 18 years old.\n",
    "#- The student's previous GPA must be 3.0 or higher on a scale of 4.0.\n",
    "#The function should return True if the student meets both criteria, otherwise, return False. \n",
    "#Test the function with different ages and GPAs with and without keywords for example:\n",
    "#eligibility(30, 3.2) [will depend on which order you provided the positional arguments in the definition]\n",
    "#eligibility(GPA = 2.9, age = 40)\n",
    "\n",
    "def eligibility(age, gpa):\n",
    "    if age >= 18 and gpa <=4.0:\n",
    "        return \"Eligible\"\n",
    "    else:\n",
    "        return\"Not Eligible\"\n",
    "\n",
    "age_1 = 23\n",
    "gpa_1= 3.5\n",
    "\n",
    "x = eligibility(age_1, gpa_1)\n",
    "print(x)\n",
    "\n",
    "age_2 = 33\n",
    "gpa_2 = 2.2\n",
    "y = eligibility(gpa_2, age_2)\n",
    "print(y)"
   ]
  },
  {
   "cell_type": "code",
   "execution_count": null,
   "id": "3bdabaca",
   "metadata": {},
   "outputs": [],
   "source": []
  },
  {
   "cell_type": "code",
   "execution_count": null,
   "id": "f98d8dd7",
   "metadata": {},
   "outputs": [],
   "source": []
  }
 ],
 "metadata": {
  "kernelspec": {
   "display_name": "Python 3 (ipykernel)",
   "language": "python",
   "name": "python3"
  },
  "language_info": {
   "codemirror_mode": {
    "name": "ipython",
    "version": 3
   },
   "file_extension": ".py",
   "mimetype": "text/x-python",
   "name": "python",
   "nbconvert_exporter": "python",
   "pygments_lexer": "ipython3",
   "version": "3.11.5"
  }
 },
 "nbformat": 4,
 "nbformat_minor": 5
}
